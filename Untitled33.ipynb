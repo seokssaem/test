{
  "nbformat": 4,
  "nbformat_minor": 0,
  "metadata": {
    "colab": {
      "provenance": [],
      "authorship_tag": "ABX9TyMunJGgiKTc1iJUGJT+hS3c",
      "include_colab_link": true
    },
    "kernelspec": {
      "name": "python3",
      "display_name": "Python 3"
    },
    "language_info": {
      "name": "python"
    }
  },
  "cells": [
    {
      "cell_type": "markdown",
      "metadata": {
        "id": "view-in-github",
        "colab_type": "text"
      },
      "source": [
        "<a href=\"https://colab.research.google.com/github/seokssaem/test/blob/main/Untitled33.ipynb\" target=\"_parent\"><img src=\"https://colab.research.google.com/assets/colab-badge.svg\" alt=\"Open In Colab\"/></a>"
      ]
    },
    {
      "cell_type": "markdown",
      "source": [
        "# **1급 모의고사 7회**"
      ],
      "metadata": {
        "id": "g7JkAotyh7IO"
      }
    },
    {
      "cell_type": "code",
      "execution_count": 2,
      "metadata": {
        "colab": {
          "base_uri": "https://localhost:8080/"
        },
        "id": "swgKQ0GPRgPA",
        "outputId": "4c60917f-7ea4-448f-b607-dd38f6245387"
      },
      "outputs": [
        {
          "output_type": "stream",
          "name": "stdout",
          "text": [
            "solution 함수의 반환 값은 2 입니다.\n"
          ]
        }
      ],
      "source": [
        "def solution(plants, collectibles):\n",
        "    answer = len(plants)\n",
        "    for plant in plants:\n",
        "        for collectible in collectibles:\n",
        "            if plant == collectible:\n",
        "                answer -= 1\n",
        "                break\n",
        "    return answer\n",
        "\n",
        "# 테스트케이스 출력\n",
        "plants = ['rose', 'tulip', 'lilac', 'pansy']\n",
        "collectibles = ['rose', 'pansy', 'rose']\n",
        "\n",
        "ret = solution(plants, collectibles)\n",
        "\n",
        "print('solution 함수의 반환 값은', ret, '입니다.')"
      ]
    },
    {
      "cell_type": "code",
      "source": [
        "def solution(msg):\n",
        "    answer = True\n",
        "    msg_clean = ''\n",
        "\n",
        "    for letter in msg:\n",
        "        if letter not in ' ,.?':\n",
        "            msg_clean += letter\n",
        "\n",
        "    middle = len(msg_clean) // 2\n",
        "\n",
        "    for i in range(middle + 1):\n",
        "        left_letter = msg_clean[i]\n",
        "        right_letter = msg_clean[-i-1]\n",
        "\n",
        "        if left_letter != right_letter:\n",
        "            answer = False\n",
        "            break\n",
        "\n",
        "    return answer\n",
        "\n",
        "# 테스트케이스\n",
        "msg1 = 'happy day!'\n",
        "ret1 = solution(msg1)\n",
        "\n",
        "print('solution 함수의 반환 값은', ret1, '입니다.')\n",
        "\n",
        "msg2 = 'borrow or rob?'\n",
        "ret2 = solution(msg2)\n",
        "\n",
        "print('solution 함수의 반환 값은', ret2, '입니다.')"
      ],
      "metadata": {
        "colab": {
          "base_uri": "https://localhost:8080/"
        },
        "id": "ZmVQInxzTWV-",
        "outputId": "d4d7b91a-9258-4d4d-c377-170c54230bb2"
      },
      "execution_count": 3,
      "outputs": [
        {
          "output_type": "stream",
          "name": "stdout",
          "text": [
            "solution 함수의 반환 값은 False 입니다.\n",
            "solution 함수의 반환 값은 True 입니다.\n"
          ]
        }
      ]
    },
    {
      "cell_type": "code",
      "source": [
        "def solution(year, month):\n",
        "    answer = 0\n",
        "    if month == 2:\n",
        "        if (year % 4 == 0 and year % 100 != 0) or year % 400 == 0:\n",
        "            answer = 29\n",
        "        else:\n",
        "            answer = 28\n",
        "    elif month == 4 or month == 6 or month == 9 or month == 11:\n",
        "        answer = 30\n",
        "    else:\n",
        "        answer = 31\n",
        "    return answer\n",
        "\n",
        "# 테스트케이스\n",
        "year1 = 1988\n",
        "month1 = 2\n",
        "ret1 = solution(year1, month1)\n",
        "\n",
        "print('solution 함수의 반환 값은', ret1, '입니다.')\n",
        "\n",
        "year2 = 2021\n",
        "month2 = 2\n",
        "ret2 = solution(year2, month2)\n",
        "\n",
        "print('solution 함수의 반환 값은', ret2, '입니다.')\n",
        "\n",
        "year3 = 2020\n",
        "month3 = 12\n",
        "ret3 = solution(year3, month3)\n",
        "\n",
        "print('solution 함수의 반환 값은', ret3, '입니다.')"
      ],
      "metadata": {
        "id": "MdWJfrqrVCin"
      },
      "execution_count": null,
      "outputs": []
    },
    {
      "cell_type": "markdown",
      "source": [
        "**4번)** 이 코드는 문자열에서 최대 N개의 서로 다른 문자로 이루어진 부분 문자열의 최대 길이를 찾는 문제를 해결하는 파이썬 함수입니다. 코드를 단계별로 살펴보겠습니다:\n",
        "\n",
        "Counter 모듈을 사용하여 각 문자의 빈도수를 추적하는 counter 변수를 초기화합니다.\n",
        "answer는 0으로 초기화되며, 이 변수에는 최대 N개의 서로 다른 문자로 이루어진 부분 문자열의 최대 길이가 저장됩니다.\n",
        "코드는 'book' 문자열의 각 문자를 순회합니다.\n",
        "각 문자에 대해 counter를 업데이트합니다.\n",
        "while 루프는 현재 부분 문자열의 서로 다른 문자의 수(len(counter))가 N을 초과하는 경우를 처리합니다. 이 경우, 부분 문자열의 시작부터 문자를 제거하여 서로 다른 문자의 수가 N 이하가 될 때까지 반복합니다.\n",
        "answer는 현재까지 본 부분 문자열의 최대 길이로 업데이트됩니다.\n",
        "최종 결과는 최대 N개의 서로 다른 문자로 이루어진 부분 문자열의 최대 길이입니다.\n",
        "코드에는 디버깅을 위한 출력문이 포함되어 있어서 counter의 상태, 길이, counter의 값, counter 값의 합, 그리고 현재 answer의 값을 각 단계에서 출력합니다."
      ],
      "metadata": {
        "id": "3WusT-tqlq79"
      }
    },
    {
      "cell_type": "code",
      "source": [
        "from collections import Counter\n",
        "\n",
        "def solution(book, n):\n",
        "    counter = Counter()\n",
        "    answer = 0\n",
        "\n",
        "    start_idx = 0\n",
        "    for char in book:\n",
        "        counter[char] += 1\n",
        "        print(counter)\n",
        "        print(len(counter))\n",
        "        while len(counter) > n:\n",
        "            char_to_dec = book[start_idx]\n",
        "            start_idx += 1\n",
        "            if counter[char_to_dec] == 1:\n",
        "                del counter[char_to_dec]\n",
        "            else:\n",
        "                counter[char_to_dec] -= 1\n",
        "        print(counter.values())\n",
        "        print(sum(counter.values()))\n",
        "        print(answer)\n",
        "        answer = max(answer, sum(counter.values()))\n",
        "\n",
        "    return answer\n",
        "\n",
        "# 테스트케이스\n",
        "book1 = 'pooter'\n",
        "n1 = 3\n",
        "ret1 = solution(book1, n1)\n",
        "\n",
        "print('solution 함수의 반환 값은', ret1, '입니다.')\n",
        "\n",
        "book2 = 'kaak'\n",
        "n2 = 2\n",
        "ret2 = solution(book2, n2)\n",
        "\n",
        "print('solution 함수의 반환 값은', ret2, '입니다.')"
      ],
      "metadata": {
        "colab": {
          "base_uri": "https://localhost:8080/"
        },
        "id": "lhwinKwnVhZv",
        "outputId": "6faaa46d-a086-4f28-85f8-7d405dcaba3d"
      },
      "execution_count": 28,
      "outputs": [
        {
          "output_type": "stream",
          "name": "stdout",
          "text": [
            "Counter({'p': 1})\n",
            "1\n",
            "dict_values([1])\n",
            "1\n",
            "0\n",
            "Counter({'p': 1, 'o': 1})\n",
            "2\n",
            "dict_values([1, 1])\n",
            "2\n",
            "1\n",
            "Counter({'o': 2, 'p': 1})\n",
            "2\n",
            "dict_values([1, 2])\n",
            "3\n",
            "2\n",
            "Counter({'o': 2, 'p': 1, 't': 1})\n",
            "3\n",
            "dict_values([1, 2, 1])\n",
            "4\n",
            "3\n",
            "Counter({'o': 2, 'p': 1, 't': 1, 'e': 1})\n",
            "4\n",
            "dict_values([2, 1, 1])\n",
            "4\n",
            "4\n",
            "Counter({'o': 2, 't': 1, 'e': 1, 'r': 1})\n",
            "4\n",
            "dict_values([1, 1, 1])\n",
            "3\n",
            "4\n",
            "solution 함수의 반환 값은 4 입니다.\n",
            "Counter({'k': 1})\n",
            "1\n",
            "dict_values([1])\n",
            "1\n",
            "0\n",
            "Counter({'k': 1, 'a': 1})\n",
            "2\n",
            "dict_values([1, 1])\n",
            "2\n",
            "1\n",
            "Counter({'a': 2, 'k': 1})\n",
            "2\n",
            "dict_values([1, 2])\n",
            "3\n",
            "2\n",
            "Counter({'k': 2, 'a': 2})\n",
            "2\n",
            "dict_values([2, 2])\n",
            "4\n",
            "3\n",
            "solution 함수의 반환 값은 4 입니다.\n"
          ]
        }
      ]
    },
    {
      "cell_type": "code",
      "source": [
        "def solution(weights, day):\n",
        "    left, right = 0, 0\n",
        "    for weight in weights:\n",
        "        if weight > left:\n",
        "            left = weight\n",
        "        right += weight\n",
        "    while left < right:\n",
        "        mid = (left + right) // 2\n",
        "        need_day, weights_sum = 1, 0\n",
        "        for weight in weights:\n",
        "            if weights_sum + weight > mid:\n",
        "                need_day += 1\n",
        "                weights_sum = 0\n",
        "            weights_sum += weight\n",
        "        if need_day > day:\n",
        "            left = mid + 1\n",
        "        else:\n",
        "            right = mid\n",
        "    return left\n",
        "\n",
        "# 테스트케이스\n",
        "weights1 = [6, 1, 2, 5, 3, 3, 6, 1, 2]\n",
        "day1 = 4\n",
        "ret1 = solution(weights1, day1)\n",
        "\n",
        "print('solution 함수의 반환 값은', ret1, '입니다.')\n",
        "\n",
        "weights2 = [1, 2, 3, 4, 5, 6, 7, 8, 9, 10]\n",
        "day2 = 5\n",
        "ret2 = solution(weights2, day2)\n",
        "\n",
        "print('solution 함수의 반환 값은', ret2, '입니다.')"
      ],
      "metadata": {
        "colab": {
          "base_uri": "https://localhost:8080/"
        },
        "id": "5Y06PDPFYv6w",
        "outputId": "7168413c-e7db-49a7-acc0-2e886cb32a18"
      },
      "execution_count": 11,
      "outputs": [
        {
          "output_type": "stream",
          "name": "stdout",
          "text": [
            "solution 함수의 반환 값은 9 입니다.\n",
            "solution 함수의 반환 값은 15 입니다.\n"
          ]
        }
      ]
    },
    {
      "cell_type": "code",
      "source": [
        "def isPrime(num):\n",
        "    if num < 2:\n",
        "        return False\n",
        "    else:\n",
        "        for i in range(2, num):\n",
        "            if num % i == 0:\n",
        "                return False\n",
        "        return True\n",
        "\n",
        "def solution(N, M):\n",
        "    answer = 0\n",
        "    for i in range(N, M+1):\n",
        "        if (isPrime(i)):\n",
        "            answer += i\n",
        "    return answer\n",
        "\n",
        "# 테스트케이스\n",
        "N = 30\n",
        "M = 50\n",
        "ret = solution(N, M)\n",
        "\n",
        "print('solution 함수의 반환 값은', ret, '입니다.')"
      ],
      "metadata": {
        "colab": {
          "base_uri": "https://localhost:8080/"
        },
        "id": "pjyFyLl6fXb1",
        "outputId": "960332d5-6d21-477c-a918-45df9e70cccc"
      },
      "execution_count": 13,
      "outputs": [
        {
          "output_type": "stream",
          "name": "stdout",
          "text": [
            "solution 함수의 반환 값은 199 입니다.\n"
          ]
        }
      ]
    },
    {
      "cell_type": "code",
      "source": [
        "def solution(n):\n",
        "    answer = ''\n",
        "\n",
        "    num = [500, 100, 90, 50, 40, 10, 9, 5, 4, 1]\n",
        "    roman_num = ['D', 'C', 'XC', 'L', 'XL', 'X', 'IX', 'V', 'IV', 'I']\n",
        "\n",
        "    for i in range(len(num)):\n",
        "        count = int(n / num[i])\n",
        "        answer += roman_num[i] * count\n",
        "        print(answer)\n",
        "        n -= num[i] * count\n",
        "    return answer\n",
        "\n",
        "# 테스트케이스\n",
        "n1 = 265\n",
        "ret1 = solution(n1)\n",
        "\n",
        "print('solution 함수의 반환 값은', ret1, '입니다.')\n",
        "\n",
        "n2 = 85\n",
        "ret2 = solution(n2)\n",
        "\n",
        "print('solution 함수의 반환 값은', ret2, '입니다.')\n"
      ],
      "metadata": {
        "colab": {
          "base_uri": "https://localhost:8080/"
        },
        "id": "dgLbZXehf_M2",
        "outputId": "c582f278-d384-4cb2-8b9c-ac767ed7e5f0"
      },
      "execution_count": 17,
      "outputs": [
        {
          "output_type": "stream",
          "name": "stdout",
          "text": [
            "\n",
            "CC\n",
            "CC\n",
            "CCL\n",
            "CCL\n",
            "CCLX\n",
            "CCLX\n",
            "CCLXV\n",
            "CCLXV\n",
            "CCLXV\n",
            "solution 함수의 반환 값은 CCLXV 입니다.\n",
            "\n",
            "\n",
            "\n",
            "L\n",
            "L\n",
            "LXXX\n",
            "LXXX\n",
            "LXXXV\n",
            "LXXXV\n",
            "LXXXV\n",
            "solution 함수의 반환 값은 LXXXV 입니다.\n"
          ]
        }
      ]
    },
    {
      "cell_type": "code",
      "source": [
        "def solution(numbers):\n",
        "    answer = 0\n",
        "\n",
        "    numbers.sort(reverse=True)\n",
        "    # print(numbers)\n",
        "    for i in range(len(numbers)):\n",
        "      for j in range(i+1, len(numbers)):\n",
        "        combined = int(str(numbers[i]) + str(numbers[j]))\n",
        "        # print(combined)\n",
        "        answer = max(answer, combined)\n",
        "\n",
        "    return answer\n",
        "\n",
        "# 테스트케이스\n",
        "numbers1 = [5,6,7,8]\n",
        "ret1 = solution(numbers1)\n",
        "\n",
        "print('solution 함수의 반환 값은', ret1, '입니다.')\n",
        "\n",
        "numbers2 = [3,9,4,2,6]\n",
        "ret2 = solution(numbers2)\n",
        "\n",
        "print('solution 함수의 반환 값은', ret2, '입니다.')"
      ],
      "metadata": {
        "colab": {
          "base_uri": "https://localhost:8080/"
        },
        "id": "DqshsWamhKqx",
        "outputId": "651c8449-3d13-4cd4-866f-9f3e04544072"
      },
      "execution_count": 19,
      "outputs": [
        {
          "output_type": "stream",
          "name": "stdout",
          "text": [
            "87\n",
            "86\n",
            "85\n",
            "76\n",
            "75\n",
            "65\n",
            "solution 함수의 반환 값은 87 입니다.\n",
            "96\n",
            "94\n",
            "93\n",
            "92\n",
            "64\n",
            "63\n",
            "62\n",
            "43\n",
            "42\n",
            "32\n",
            "solution 함수의 반환 값은 96 입니다.\n"
          ]
        }
      ]
    },
    {
      "cell_type": "code",
      "source": [
        "def solution(binary1,binary2):\n",
        "    max_len = max(len(binary1), len(binary2))\n",
        "\n",
        "    binary1 = binary1.zfill(max_len)\n",
        "    binary2 = binary2.zfill(max_len)\n",
        "\n",
        "    answer = ''\n",
        "    carry = 0\n",
        "\n",
        "    for i in range(max_len-1, -1, -1):\n",
        "      bit_sum = int(binary1[i]) + int(binary2[i]) + carry\n",
        "      carry = bit_sum // 2\n",
        "      bit_sum %= 2\n",
        "      # print(bit_sum)\n",
        "      answer = str(bit_sum) + answer\n",
        "    return answer\n",
        "\n",
        "# 테스트케이스\n",
        "binary1 = '10011010'\n",
        "binary2 = '1011'\n",
        "ret = solution(binary1, binary2)\n",
        "\n",
        "print('solution 함수의 반환 값은', ret, '입니다.')"
      ],
      "metadata": {
        "colab": {
          "base_uri": "https://localhost:8080/"
        },
        "id": "9JqS_PYFiIkd",
        "outputId": "db9f2d58-66c2-4a49-bde9-971293485699"
      },
      "execution_count": 21,
      "outputs": [
        {
          "output_type": "stream",
          "name": "stdout",
          "text": [
            "solution 함수의 반환 값은 10100101 입니다.\n"
          ]
        }
      ]
    },
    {
      "cell_type": "code",
      "source": [
        "\n",
        "from collections import Counter\n",
        "\n",
        "def solution(text):\n",
        "    answer = ''\n",
        "    words = text.split()\n",
        "    word_counter = Counter(words)\n",
        "    print(dict(word_counter))\n",
        "    print(word_counter.most_common(1))\n",
        "    print(word_counter.most_common(1)[0])\n",
        "    answer = word_counter.most_common(1)[0][0]\n",
        "    return answer\n",
        "\n",
        "# 테스트케이스\n",
        "text = 'top of the top netflix'\n",
        "ret = solution(text)\n",
        "\n",
        "print('solution 함수의 반환 값은', ret, '입니다.')"
      ],
      "metadata": {
        "colab": {
          "base_uri": "https://localhost:8080/"
        },
        "id": "dGfCwrpZjXhm",
        "outputId": "363257c3-9434-4037-8e1f-38d134ee8c6e"
      },
      "execution_count": 26,
      "outputs": [
        {
          "output_type": "stream",
          "name": "stdout",
          "text": [
            "{'top': 2, 'of': 1, 'the': 1, 'netflix': 1}\n",
            "[('top', 2)]\n",
            "('top', 2)\n",
            "solution 함수의 반환 값은 top 입니다.\n"
          ]
        }
      ]
    },
    {
      "cell_type": "markdown",
      "source": [
        "# **1급 모의고사 8회**"
      ],
      "metadata": {
        "id": "fjhnjXt5mK41"
      }
    },
    {
      "cell_type": "code",
      "source": [
        "def solution(money, stocks, purchasables):\n",
        "    purchasables.sort(key=lambda x: x[1])\n",
        "\n",
        "    answer = 0\n",
        "    print(purchasables)\n",
        "    for book, price in purchasables:\n",
        "        if book not in stocks and money >= price:\n",
        "            money -= price\n",
        "            stocks.append(book)\n",
        "            answer += 1\n",
        "    return answer\n",
        "\n",
        "# 테스트케이스\n",
        "money = 10\n",
        "stocks = [1, 3, 6, 11]\n",
        "purchasables = [[1, 1], [2, 5], [3, 2], [7, 2], [8, 5]]\n",
        "ret = solution(money, stocks, purchasables)\n",
        "\n",
        "print('solution 함수의 반환 값은', ret, '입니다.')\n"
      ],
      "metadata": {
        "colab": {
          "base_uri": "https://localhost:8080/"
        },
        "id": "ehuty68fmQaV",
        "outputId": "4fe344d5-933a-4f99-ebb2-0ba38bfc4fa3"
      },
      "execution_count": 39,
      "outputs": [
        {
          "output_type": "stream",
          "name": "stdout",
          "text": [
            "[[1, 1], [3, 2], [7, 2], [2, 5], [8, 5]]\n",
            "solution 함수의 반환 값은 2 입니다.\n"
          ]
        }
      ]
    },
    {
      "cell_type": "code",
      "source": [
        "status = {'EMPTY':0, 'OCCUPIED':1, 'VISITED':2}\n",
        "\n",
        "def func_a(arr, x, y):\n",
        "    global status\n",
        "    dxs = [0, 0, 1, -1]\n",
        "    dys = [1, -1, 0, 0]\n",
        "\n",
        "    for dx, dy in zip(dxs, dys):\n",
        "        next_x, next_y = x+dx, y+dy\n",
        "        if not(1 <= next_x <= 1000 and 1 <= next_y <= 1000):\n",
        "            continue\n",
        "        if arr[next_x][next_y] == status['OCCUPIED']:\n",
        "            arr[next_x][next_y] = status['VISITED']\n",
        "            func_a(arr, x, y)\n",
        "\n",
        "def func_b(arr):\n",
        "    global status\n",
        "    answer = 0\n",
        "    for row in arr:\n",
        "        answer += row.count(status['VISITED'])\n",
        "    return answer\n",
        "\n",
        "def func_c(arr):\n",
        "    global status\n",
        "    answer = [[status['EMPTY']] * 1001 for _ in range(1001)]\n",
        "    for x, y in arr:\n",
        "        answer[x][y] = status['OCCUPIED']\n",
        "    return answer\n",
        "\n",
        "def solution(people, yawn):\n",
        "    borad = func_c(people)\n",
        "\n",
        "    x, y = yawn\n",
        "    borad[x][y] = status['VISITED']\n",
        "    func_a(borad, x, y)\n",
        "\n",
        "    return func_b(people)\n",
        "\n",
        "# 테스트케이스\n",
        "people = [[2, 1], [1, 2], [3, 1], [3, 2]]\n",
        "yawn = [3, 2]\n",
        "ret = solution(people, yawn)\n",
        "\n",
        "print('solution 함수의 반환 값은', ret, '입니다.')"
      ],
      "metadata": {
        "colab": {
          "base_uri": "https://localhost:8080/"
        },
        "id": "7ZriCYMesrbK",
        "outputId": "d12bb5a3-69cb-4f76-8fc1-cdeb0f30b4ec"
      },
      "execution_count": 41,
      "outputs": [
        {
          "output_type": "stream",
          "name": "stdout",
          "text": [
            "solution 함수의 반환 값은 3 입니다.\n"
          ]
        }
      ]
    },
    {
      "cell_type": "code",
      "source": [
        "def solution(heights):\n",
        "    sorted_heights = sorted(heights, reverse=True)\n",
        "    answer = [sorted_heights.index(height)+1 for height in heights]\n",
        "    return answer\n",
        "\n",
        "# 테스트케이스\n",
        "heights = [163, 172, 156, 100, 201]\n",
        "ret = solution(heights)\n",
        "\n",
        "print('solution 함수의 반환 값은', ret, '입니다.')"
      ],
      "metadata": {
        "colab": {
          "base_uri": "https://localhost:8080/"
        },
        "id": "hvGqC8UnuDt8",
        "outputId": "4f16f72a-e31d-4fc9-cab8-d63b6c64632e"
      },
      "execution_count": 44,
      "outputs": [
        {
          "output_type": "stream",
          "name": "stdout",
          "text": [
            "solution 함수의 반환 값은 [3, 2, 4, 5, 1] 입니다.\n"
          ]
        }
      ]
    },
    {
      "cell_type": "markdown",
      "source": [
        "**4번)** 이 코드는 주어진 2진수 목록에서 숫자를 조합하여 가장 큰 수를 만들기 위한 함수입니다. 코드를 단계별로 설명하겠습니다:\n",
        "\n",
        "numbers.sort(key=lambda x: x * 10, reverse=True): 주어진 2진수 목록을 정렬합니다. 이때, 정렬 기준은 각 숫자를 10번 반복하여 크기를 비교하는 것입니다. reverse=True는 내림차순으로 정렬하라는 의미입니다.\n",
        "\n",
        "예를 들어, ['111', '10']가 주어졌을 때, '111'을 10번 반복하면 '11111111111111111110'이 되고, '10'을 10번 반복하면 '10101010101010101010'이 됩니다. 따라서 '111'이 '10'보다 크다고 간주하여 내림차순으로 정렬됩니다.\n",
        "\n",
        "print(numbers): 정렬된 숫자 목록을 출력합니다. 이는 디버깅을 위한 용도로 사용됩니다.\n",
        "\n",
        "answer = ''.join(numbers): 정렬된 숫자 목록을 이어 붙여 하나의 문자열로 만듭니다. 이 문자열이 가장 큰 수를 나타냅니다.\n",
        "\n",
        "return answer: 최종적으로 구한 가장 큰 수를 반환합니다."
      ],
      "metadata": {
        "id": "IzSwMdQNw-nk"
      }
    },
    {
      "cell_type": "code",
      "source": [
        "def solution(numbers):\n",
        "    numbers.sort(key=lambda x:x*10, reverse=True)\n",
        "    print(numbers)\n",
        "    answer = ''.join(numbers)\n",
        "    return answer\n",
        "\n",
        "# 테스트케이스\n",
        "numbers1 = ['111', '10']\n",
        "ret1 = solution(numbers1)\n",
        "\n",
        "print('solution 함수의 반환 값은', ret1, '입니다.')\n",
        "\n",
        "numbers2 = ['110', '10', '1']\n",
        "ret2 = solution(numbers2)\n",
        "\n",
        "print('solution 함수의 반환 값은', ret2, '입니다.')"
      ],
      "metadata": {
        "colab": {
          "base_uri": "https://localhost:8080/"
        },
        "id": "5HUeRjRgvGu4",
        "outputId": "cf043a58-f3b8-411d-8015-010f7a2c3555"
      },
      "execution_count": 46,
      "outputs": [
        {
          "output_type": "stream",
          "name": "stdout",
          "text": [
            "['111', '10']\n",
            "solution 함수의 반환 값은 11110 입니다.\n",
            "['1', '110', '10']\n",
            "solution 함수의 반환 값은 111010 입니다.\n"
          ]
        }
      ]
    },
    {
      "cell_type": "code",
      "source": [
        "def solution(timetable):\n",
        "    timetable.sort(key=lambda x: (x[1], x[0]))\n",
        "    print(timetable)\n",
        "    last = '00:00'\n",
        "    answer = 0\n",
        "    for started, ended in timetable:\n",
        "        if last <= started:\n",
        "            answer += 1\n",
        "            last = ended\n",
        "    return answer\n",
        "\n",
        "# 테스트케이스\n",
        "timetable = [['11:30', '12:30'], ['12:00', '14:00'], ['11:00', '12:00']]\n",
        "ret = solution(timetable)\n",
        "\n",
        "print('solution 함수의 반환 값은', ret, '입니다.')"
      ],
      "metadata": {
        "colab": {
          "base_uri": "https://localhost:8080/"
        },
        "id": "oN84ynlVx_f9",
        "outputId": "f07c0532-fc16-457b-a1fd-d38e58bc143d"
      },
      "execution_count": 48,
      "outputs": [
        {
          "output_type": "stream",
          "name": "stdout",
          "text": [
            "[['11:00', '12:00'], ['11:30', '12:30'], ['12:00', '14:00']]\n",
            "solution 함수의 반환 값은 2 입니다.\n"
          ]
        }
      ]
    },
    {
      "cell_type": "code",
      "source": [
        "def solution(brackets):\n",
        "    pairs = {'(':')', '{':'}', '[':']'}\n",
        "    stack = []\n",
        "    for bracket in brackets:\n",
        "        if bracket in pairs:\n",
        "            stack.append(bracket)\n",
        "        elif bracket in pairs.values():\n",
        "            if not stack:   ###\n",
        "                return False\n",
        "            if pairs[stack[-1]] != bracket: # 두번째 케이스에서 오류남 (인덱스 범위 오버)\n",
        "                return False\n",
        "            stack.pop()\n",
        "    return len(stack) == 0\n",
        "\n",
        "# 테스트케이스\n",
        "brackets1 = '[(){}]'\n",
        "ret1 = solution(brackets1)\n",
        "\n",
        "print('solution 함수의 반환 값은', ret1, '입니다.')\n",
        "\n",
        "brackets2 = ']['\n",
        "ret2 = solution(brackets2)\n",
        "\n",
        "print('solution 함수의 반환 값은', ret2, '입니다.')"
      ],
      "metadata": {
        "colab": {
          "base_uri": "https://localhost:8080/"
        },
        "id": "FMcPrQoTy0cw",
        "outputId": "88623fcb-314d-4126-d525-8a28e9a26573"
      },
      "execution_count": 53,
      "outputs": [
        {
          "output_type": "stream",
          "name": "stdout",
          "text": [
            "solution 함수의 반환 값은 True 입니다.\n",
            "solution 함수의 반환 값은 False 입니다.\n"
          ]
        }
      ]
    },
    {
      "cell_type": "code",
      "source": [
        "def solution(lengths):\n",
        "    lengths.sort()\n",
        "    print(lengths)\n",
        "\n",
        "    n = len(lengths)\n",
        "\n",
        "    for i in range(n-4):\n",
        "      for j in range(i+1, n-3):\n",
        "        for k in range(j+1, n-2):\n",
        "          for l in range(k+1, n-1):\n",
        "            for m in range(l+1, n):\n",
        "              if lengths[i] + lengths[j] + lengths[k] + lengths[l] + lengths[m] == 50:\n",
        "                return True\n",
        "    answer = False\n",
        "    return answer\n",
        "\n",
        "# 테스트케이스\n",
        "lengths = [9, 10, 15, 8, 32, 11, 13, 6]\n",
        "ret = solution(lengths)\n",
        "\n",
        "print('solution 함수의 반환 값은', ret, '입니다.')"
      ],
      "metadata": {
        "colab": {
          "base_uri": "https://localhost:8080/"
        },
        "id": "MU3z2D-Y0LqZ",
        "outputId": "d71c6804-4f08-4920-8a10-c6cb52f9400d"
      },
      "execution_count": 57,
      "outputs": [
        {
          "output_type": "stream",
          "name": "stdout",
          "text": [
            "[6, 8, 9, 10, 11, 13, 15, 32]\n",
            "solution 함수의 반환 값은 True 입니다.\n"
          ]
        }
      ]
    },
    {
      "cell_type": "markdown",
      "source": [
        "**8번)** 이 코드는 문자열에서 중복되지 않는 부분 문자열(substring) 중 가장 긴 것을 찾는 함수를 구현한 것으로 보입니다. 코드를 함수별로 살펴보겠습니다:\n",
        "\n",
        "func_a(value): 문자열 value에 중복된 문자가 있는지 확인하는 함수입니다. 알파벳 소문자로 이루어진 문자열에서 각 문자의 등장 횟수를 세고, 한 번이라도 등장 횟수가 2 이상인 문자가 있으면 False를 반환하고, 모든 문자가 한 번씩만 등장하면 True를 반환합니다.\n",
        "\n",
        "func_b(value): 문자열 value의 모든 부분 문자열을 생성하고, 그 중 가장 긴 중복되지 않는 부분 문자열을 찾는 함수입니다. 중첩된 반복문을 사용하여 모든 부분 문자열을 생성하고, func_c를 호출하여 현재까지 찾은 가장 긴 부분 문자열과 비교합니다.\n",
        "\n",
        "func_c(value1, value2): 두 개의 문자열 value1과 value2 중에서 더 긴 길이의 문자열이면서 중복이 없는 경우에 value2를 반환하고, 그렇지 않으면 value1을 반환하는 함수입니다.\n",
        "\n",
        "solution(text): 주어진 문자열 text에 대해 가장 긴 중복되지 않는 부분 문자열을 찾아 반환하는 함수입니다. 이는 func_b를 호출하여 구현되어 있습니다."
      ],
      "metadata": {
        "id": "pTjvMwG_23bY"
      }
    },
    {
      "cell_type": "code",
      "source": [
        "def func_a(value):\n",
        "    counter = {alphabet: 0 for alphabet in 'abcdefghijklmnopqrstuvwxyz'}\n",
        "    for element in value:\n",
        "        counter[element] += 1\n",
        "        if counter[element] > 1:\n",
        "            return False\n",
        "    return True\n",
        "\n",
        "def func_b(value):\n",
        "    answer = ''\n",
        "    for start in range(len(value)):\n",
        "        for end in range(start+1, len(value)+1):\n",
        "            subvalue = value[start:end]\n",
        "            answer = func_c(answer, subvalue)\n",
        "    return answer\n",
        "\n",
        "def func_c(value1, value2):\n",
        "    if len(value1) < len(value2) and func_a(value2):\n",
        "        return value2\n",
        "    return value1\n",
        "\n",
        "def solution(text):\n",
        "    answer = func_b(text)\n",
        "    return answer\n",
        "\n",
        "# 테스트케이스\n",
        "text = 'abbcdb'\n",
        "ret = solution(text)\n",
        "\n",
        "print('solution 함수의 반환 값은', ret, '입니다.')"
      ],
      "metadata": {
        "id": "8h2UJeCj0RBv"
      },
      "execution_count": null,
      "outputs": []
    },
    {
      "cell_type": "markdown",
      "source": [
        "**9번)** 이 코드는 다이나믹 프로그래밍(Dynamic Programming) 기법을 사용하여 2차원 리스트 duration에 저장된 값을 업데이트하고, 최종적으로 오른쪽 아래 끝의 값을 반환하는 함수입니다. 코드를 단계별로 설명하겠습니다:\n",
        "\n",
        "COLUMN_LEN 상수를 5로 설정하고, 각 행과 열의 누적값을 계산합니다.\n",
        "첫 번째 반복문에서는 duration 리스트의 첫 번째 열의 각 원소를 해당 열까지의 누적값으로 업데이트합니다.\n",
        "두 번째 반복문에서는 duration 리스트의 첫 번째 행의 각 원소를 해당 행까지의 누적값으로 업데이트합니다.\n",
        "세 번째 이후의 이중 반복문에서는 각 위치별로 최적의 값을 계산하면서 duration 리스트를 업데이트합니다. 각 위치까지의 최소 누적값은 왼쪽 칸에서 오는 경우와 위쪽 칸에서 오는 경우 중 작은 값을 더하여 계산됩니다.\n",
        "최종적으로 duration[-1][-1]의 값이 오른쪽 아래 끝에 해당하는 최적의 누적값이 되며, 이를 반환합니다."
      ],
      "metadata": {
        "id": "M8_R4ygF5C3E"
      }
    },
    {
      "cell_type": "code",
      "source": [
        "def solution(duration):\n",
        "    COLUMN_LEN = 5\n",
        "    for i in range(1, len(duration)):\n",
        "        duration[i][0] += duration[i-1][0]\n",
        "    for i in range(1, COLUMN_LEN):\n",
        "        duration[0][i] += duration[0][i-1]\n",
        "\n",
        "    print(duration)\n",
        "\n",
        "    for i in range(1, len(duration)):\n",
        "        for j in range(1, COLUMN_LEN):\n",
        "            duration[i][j] += min(duration[i-1][j], duration[i][j-1])\n",
        "    return duration[-1][-1]\n",
        "\n",
        "# 테스트케이스\n",
        "duration = [[2, 1, 2, 3, 1], [1, 2, 4, 1, 4], [1, 4, 5, 2, 1]]\n",
        "ret = solution(duration)\n",
        "\n",
        "print('solution 함수의 반환 값은', ret, '입니다.')"
      ],
      "metadata": {
        "colab": {
          "base_uri": "https://localhost:8080/"
        },
        "id": "wzSgXvY43Bb-",
        "outputId": "6429f290-46ce-4803-c890-e1bd2ceda626"
      },
      "execution_count": 60,
      "outputs": [
        {
          "output_type": "stream",
          "name": "stdout",
          "text": [
            "[[2, 3, 5, 8, 9], [3, 2, 4, 1, 4], [4, 4, 5, 2, 1]]\n",
            "solution 함수의 반환 값은 12 입니다.\n"
          ]
        }
      ]
    },
    {
      "cell_type": "code",
      "source": [
        "class FranchiseStore:\n",
        "    def __init__(self):\n",
        "        self.price = 0\n",
        "        self.count = 0\n",
        "\n",
        "    def __init__(self, price, count):\n",
        "        self.price = price\n",
        "        self.count = count\n",
        "\n",
        "    def get_profit(self):\n",
        "        return 0\n",
        "\n",
        "class DirectManagementStore(FranchiseStore):\n",
        "    def __init__(self, price, count, royalty):\n",
        "        super().__init__(price, count)\n",
        "        self.royalty = royalty\n",
        "\n",
        "    def get_profit(self):\n",
        "        return (self.price * self.count) * (100 - self.royalty) // 100\n",
        "\n",
        "class AffiliatedStore(FranchiseStore):\n",
        "    def __init__(self, price, count, cost):\n",
        "        super().__init__(price, count)\n",
        "        self.cost = cost\n",
        "\n",
        "    def get_profit(self):\n",
        "        return self.price * self.count - self.cost\n",
        "\n",
        "def solution(royalty, cost, sales):\n",
        "    direct_management_store = DirectManagementStore(sales[1], sales[0], royalty)\n",
        "    affiliated_store = AffiliatedStore(sales[3], sales[2], cost)\n",
        "\n",
        "    answer = []\n",
        "    answer.append(direct_management_store.get_profit())\n",
        "    answer.append(affiliated_store.get_profit())\n",
        "\n",
        "    return answer\n",
        "\n",
        "# 테스트케이스\n",
        "royalty = 30\n",
        "cost = 10000\n",
        "sales = [100, 10000, 80, 12000]\n",
        "ret = solution(royalty, cost, sales)\n",
        "\n",
        "print('solution 함수의 반환 값은', ret, '입니다.')"
      ],
      "metadata": {
        "colab": {
          "base_uri": "https://localhost:8080/"
        },
        "id": "WRjfJHiO5WoH",
        "outputId": "6124b084-9994-4564-881a-026f2d2d2513"
      },
      "execution_count": 61,
      "outputs": [
        {
          "output_type": "stream",
          "name": "stdout",
          "text": [
            "solution 함수의 반환 값은 [700000, 950000] 입니다.\n"
          ]
        }
      ]
    },
    {
      "cell_type": "markdown",
      "source": [
        "# **1급 모의고사 9회**"
      ],
      "metadata": {
        "id": "_0HNpNZW-i63"
      }
    },
    {
      "cell_type": "markdown",
      "source": [
        "**1번)** 이 코드는 그래프를 활용하여 주어진 문자열 관계를 통해 어떤 그룹에 속한 문자가 있는지 확인하는 함수입니다. 간단하게 설명하면, 주어진 문자열 관계에 대한 유향 그래프를 생성하고, 해당 그래프에서 어떤 노드가 연결되어 있는지를 찾아서 그룹의 개수를 반환합니다.\n",
        "\n",
        "NUM_ALPHA = 20: 상수 NUM_ALPHA를 20으로 설정합니다. 이는 알파벳 대문자의 개수를 나타냅니다.\n",
        "\n",
        "func_a(number, arr1, arr2): 깊이 우선 탐색(DFS)을 사용하여 그래프에서 특정 노드 number와 연결된 모든 노드를 방문 표시(arr2)하고, 재귀적으로 호출하는 함수입니다.\n",
        "\n",
        "func_b(arr): 주어진 리스트 arr에서 True인 값을 카운트하여 반환하는 함수입니다.\n",
        "\n",
        "func_c(arr1, arr2): 주어진 문자열 관계(arr1)를 그래프(arr2)로 변환하는 함수입니다. 문자열 관계에서 각 문자를 노드로 보고, 관계가 있을 경우 해당 노드들을 그래프에 연결합니다.\n",
        "\n",
        "solution(relations): 문자열 관계(relations)를 그래프로 변환하고, 연결된 노드들을 찾아서 몇 개의 그룹이 있는지를 반환하는 함수입니다. 이 함수에서는 func_c를 호출하여 문자열 관계를 그래프로 변환하고, 그래프의 0번 노드에서 시작하여 func_a를 호출하여 연결된 노드들을 방문 표시하고, 최종적으로 func_b를 호출하여 방문된 노드의 개수를 반환합니다."
      ],
      "metadata": {
        "id": "3S3UNFMHCiEc"
      }
    },
    {
      "cell_type": "code",
      "source": [
        "NUM_ALPHA = 20\n",
        "\n",
        "def func_a(number, arr1, arr2):\n",
        "    arr2[number] = True\n",
        "    for i in range(NUM_ALPHA):\n",
        "        if arr1[number][i] and not arr2[i]:\n",
        "            func_a(i, arr1, arr2)\n",
        "\n",
        "def func_b(arr):\n",
        "    answer = 0\n",
        "    for value in arr:\n",
        "        if value:\n",
        "            answer += 1\n",
        "    return answer\n",
        "\n",
        "def func_c(arr1, arr2):\n",
        "    for elem1, elem2 in arr1:\n",
        "        num1, num2 = ord(elem1) - ord('A'), ord(elem2) - ord('A')\n",
        "        arr2[num1][num2] = True\n",
        "        arr2[num2][num1] = True\n",
        "\n",
        "def solution(relations):\n",
        "    graph = [[False for _ in range(NUM_ALPHA)] for _ in range(NUM_ALPHA)]\n",
        "    visited = [False] * NUM_ALPHA\n",
        "\n",
        "    func_c(relations, graph)  ###\n",
        "    visited[0] = True\n",
        "    for node in range(NUM_ALPHA):\n",
        "        if graph[0][node] and not visited[node]:\n",
        "            func_a(node, graph, visited)   ###\n",
        "    return func_b(visited)  ###\n",
        "\n",
        "# 테스트케이스\n",
        "relations = ['AB', 'BC', 'DE']\n",
        "ret = solution(relations)\n",
        "\n",
        "print('solution 함수의 반환 값은', ret, '입니다.')"
      ],
      "metadata": {
        "colab": {
          "base_uri": "https://localhost:8080/"
        },
        "id": "RMcd8lTK-0rP",
        "outputId": "6446d368-1692-48fe-cbf6-732ffefa094e"
      },
      "execution_count": 62,
      "outputs": [
        {
          "output_type": "stream",
          "name": "stdout",
          "text": [
            "solution 함수의 반환 값은 3 입니다.\n"
          ]
        }
      ]
    },
    {
      "cell_type": "code",
      "source": [
        "def solution(arr):\n",
        "    arr.sort(key=lambda x:(x % 10, x // 10))\n",
        "    return arr\n",
        "\n",
        "# 테스트케이스\n",
        "arr = [1, 13, 19, 26, 72, 86]\n",
        "ret = solution(arr)\n",
        "\n",
        "print('solution 함수의 반환 값은', ret, '입니다.')"
      ],
      "metadata": {
        "colab": {
          "base_uri": "https://localhost:8080/"
        },
        "id": "4e4Wh-ZACsQn",
        "outputId": "2abd2cf3-4410-4530-e3ed-e957fabef493"
      },
      "execution_count": 63,
      "outputs": [
        {
          "output_type": "stream",
          "name": "stdout",
          "text": [
            "solution 함수의 반환 값은 [1, 72, 13, 26, 86, 19] 입니다.\n"
          ]
        }
      ]
    },
    {
      "cell_type": "markdown",
      "source": [
        "**3번)** 이 코드는 주어진 선호도(candidates)와 이름(names)을 기반으로 특정 조건에 따라 후보자들을 선택하는 함수를 구현하고 있습니다. 코드를 각 함수별로 살펴보겠습니다:\n",
        "\n",
        "func_a(arr): 주어진 리스트(arr)에서 가장 큰 값을 가지는 인덱스를 찾아 반환하는 함수입니다. 만약 여러 개의 최댓값이 있다면 가장 먼저 나오는 인덱스를 반환합니다.\n",
        "\n",
        "func_b(arr1, arr2): 두 개의 리스트(arr1, arr2)에서 같은 값이 몇 번 등장하는지 세는 함수입니다. arr1의 각 요소가 arr2에서 몇 번 등장하는지 세어 리스트로 반환합니다.\n",
        "\n",
        "func_c(arr, number): 주어진 리스트(arr)에서 특정 값(number)이 아닌 다른 값들 중에서 가장 큰 값을 가지는 인덱스를 찾아 반환하는 함수입니다.\n",
        "\n",
        "solution(candidates, names): 주어진 선호도(candidates)와 이름(names)을 기반으로 특정 조건에 따라 후보자들을 선택하는 함수입니다. 먼저 func_b를 호출하여 각 후보자의 선호도를 이름별로 세어서 리스트로 얻습니다. 그 후, func_a를 호출하여 가장 선호도가 높은 후보자의 인덱스를 찾습니다. 그리고 func_c를 호출하여 가장 선호도가 높은 후보자와 동일한 선호도를 가지면서 가장 큰 선호도를 가진 후보자의 인덱스를 찾습니다. 이렇게 선택된 후보자들을 리스트로 반환합니다."
      ],
      "metadata": {
        "id": "jyZaUo68HBms"
      }
    },
    {
      "cell_type": "code",
      "source": [
        "def func_a(arr):\n",
        "    answer = -1\n",
        "    for i in range(len(arr)):\n",
        "        if answer == -1:\n",
        "            answer = i\n",
        "        elif arr[answer] < arr[i]:\n",
        "            answer = i\n",
        "    return answer\n",
        "\n",
        "def func_b(arr1, arr2):\n",
        "    answer = [0] * len(arr1)\n",
        "    for i in range(len(arr1)):\n",
        "        for j in range(len(arr2)):\n",
        "            if arr1[i] == arr2[j]:\n",
        "                answer[i] += 1\n",
        "    return answer\n",
        "\n",
        "def func_c(arr, number):\n",
        "    answer = -1\n",
        "    for idx, elem in enumerate(arr):\n",
        "        if elem == number:\n",
        "            continue\n",
        "        if answer == -1:\n",
        "            answer = idx\n",
        "        elif arr[answer] < elem:\n",
        "            answer = idx\n",
        "    return answer\n",
        "\n",
        "def solution(candidates, names):\n",
        "    counter = func_b(candidates, names)  ###\n",
        "    first = func_a(counter)   ###\n",
        "    second = func_c(counter, counter[first])  ###\n",
        "\n",
        "    answer = [candidates[first], candidates[second]]\n",
        "    return answer\n",
        "\n",
        "# 테스트케이스\n",
        "candidates = ['Ann', 'Bob', 'David']\n",
        "names = ['Bob', 'Alice', 'Bob', 'Ann']\n",
        "ret = solution(candidates, names)\n",
        "\n",
        "print('solution 함수의 반환 값은', ret, '입니다.')"
      ],
      "metadata": {
        "colab": {
          "base_uri": "https://localhost:8080/"
        },
        "id": "pzUHXCcaDofz",
        "outputId": "13996b35-06ae-4916-9ed3-cd2aab3c106a"
      },
      "execution_count": 64,
      "outputs": [
        {
          "output_type": "stream",
          "name": "stdout",
          "text": [
            "solution 함수의 반환 값은 ['Bob', 'Ann'] 입니다.\n"
          ]
        }
      ]
    },
    {
      "cell_type": "markdown",
      "source": [
        "**4번)** 이 코드는 깊이 우선 탐색(DFS)을 사용하여 주어진 퀘스트 목록과 남은 날짜에 따른 최대 보상을 계산하는 함수를 구현하고 있습니다. 코드를 각 함수별로 살펴보겠습니다:\n",
        "\n",
        "dfs(quests, day, money, index): 깊이 우선 탐색을 수행하여 퀘스트 목록(quests), 남은 날짜(day), 현재까지 얻은 보상(money), 그리고 현재 인덱스(index)를 고려하여 최대 보상을 계산하는 함수입니다. 기저 조건은 day가 0이 되었을 때, 현재까지 얻은 보상인 money를 반환합니다. 그렇지 않은 경우, 현재 인덱스부터 끝까지의 퀘스트 중에서 해당 퀘스트를 수행할 수 있으면 수행하고, 다음 퀘스트로 이동하여 재귀적으로 호출합니다.\n",
        "\n",
        "solution(quests, day): DFS 함수를 호출하는 최상위 함수로, 주어진 퀘스트 목록과 날짜로 최대 보상을 계산하는 함수입니다. 초기 호출에서는 현재까지의 보상 money와 현재 인덱스 index를 0으로 설정하여 DFS를 시작합니다."
      ],
      "metadata": {
        "id": "q2LisZV2T061"
      }
    },
    {
      "cell_type": "code",
      "source": [
        "def dfs(quests, day, money, index):\n",
        "    if day == 0:\n",
        "        return money\n",
        "\n",
        "    answer = 0\n",
        "    for i in range(index, len(quests)):\n",
        "        if day - quests[i][0] >= 0:\n",
        "            answer = max(answer, dfs(quests, day-quests[i][0], money + quests[i][1], index+1))\n",
        "    return answer   ###\n",
        "\n",
        "def solution(quests, day):\n",
        "    return dfs(quests, day, 0, 0)\n",
        "\n",
        "# 테스트케이스\n",
        "quests = [[1, 1], [4, 6], [6, 5], [10, 10]]\n",
        "day = 10\n",
        "ret = solution(quests, day)\n",
        "\n",
        "print('solution 함수의 반환 값은', ret, '입니다.')\n"
      ],
      "metadata": {
        "colab": {
          "base_uri": "https://localhost:8080/"
        },
        "id": "x5M9PzJ_HaF-",
        "outputId": "a66f7a62-c242-4300-99f4-9f304e1a5acd"
      },
      "execution_count": 65,
      "outputs": [
        {
          "output_type": "stream",
          "name": "stdout",
          "text": [
            "solution 함수의 반환 값은 11 입니다.\n"
          ]
        }
      ]
    }
  ]
}