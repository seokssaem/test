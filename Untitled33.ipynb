{
  "nbformat": 4,
  "nbformat_minor": 0,
  "metadata": {
    "colab": {
      "provenance": [],
      "authorship_tag": "ABX9TyNalQnAUfbRnf+I4bTIBQPk",
      "include_colab_link": true
    },
    "kernelspec": {
      "name": "python3",
      "display_name": "Python 3"
    },
    "language_info": {
      "name": "python"
    }
  },
  "cells": [
    {
      "cell_type": "markdown",
      "metadata": {
        "id": "view-in-github",
        "colab_type": "text"
      },
      "source": [
        "<a href=\"https://colab.research.google.com/github/seokssaem/test/blob/main/Untitled33.ipynb\" target=\"_parent\"><img src=\"https://colab.research.google.com/assets/colab-badge.svg\" alt=\"Open In Colab\"/></a>"
      ]
    },
    {
      "cell_type": "markdown",
      "source": [
        "**1급 모의고사 7회**"
      ],
      "metadata": {
        "id": "g7JkAotyh7IO"
      }
    },
    {
      "cell_type": "code",
      "execution_count": 2,
      "metadata": {
        "colab": {
          "base_uri": "https://localhost:8080/"
        },
        "id": "swgKQ0GPRgPA",
        "outputId": "4c60917f-7ea4-448f-b607-dd38f6245387"
      },
      "outputs": [
        {
          "output_type": "stream",
          "name": "stdout",
          "text": [
            "solution 함수의 반환 값은 2 입니다.\n"
          ]
        }
      ],
      "source": [
        "def solution(plants, collectibles):\n",
        "    answer = len(plants)\n",
        "    for plant in plants:\n",
        "        for collectible in collectibles:\n",
        "            if plant == collectible:\n",
        "                answer -= 1\n",
        "                break\n",
        "    return answer\n",
        "\n",
        "# 테스트케이스 출력\n",
        "plants = ['rose', 'tulip', 'lilac', 'pansy']\n",
        "collectibles = ['rose', 'pansy', 'rose']\n",
        "\n",
        "ret = solution(plants, collectibles)\n",
        "\n",
        "print('solution 함수의 반환 값은', ret, '입니다.')"
      ]
    },
    {
      "cell_type": "code",
      "source": [
        "def solution(msg):\n",
        "    answer = True\n",
        "    msg_clean = ''\n",
        "\n",
        "    for letter in msg:\n",
        "        if letter not in ' ,.?':\n",
        "            msg_clean += letter\n",
        "\n",
        "    middle = len(msg_clean) // 2\n",
        "\n",
        "    for i in range(middle + 1):\n",
        "        left_letter = msg_clean[i]\n",
        "        right_letter = msg_clean[-i-1]\n",
        "\n",
        "        if left_letter != right_letter:\n",
        "            answer = False\n",
        "            break\n",
        "\n",
        "    return answer\n",
        "\n",
        "# 테스트케이스\n",
        "msg1 = 'happy day!'\n",
        "ret1 = solution(msg1)\n",
        "\n",
        "print('solution 함수의 반환 값은', ret1, '입니다.')\n",
        "\n",
        "msg2 = 'borrow or rob?'\n",
        "ret2 = solution(msg2)\n",
        "\n",
        "print('solution 함수의 반환 값은', ret2, '입니다.')"
      ],
      "metadata": {
        "colab": {
          "base_uri": "https://localhost:8080/"
        },
        "id": "ZmVQInxzTWV-",
        "outputId": "d4d7b91a-9258-4d4d-c377-170c54230bb2"
      },
      "execution_count": 3,
      "outputs": [
        {
          "output_type": "stream",
          "name": "stdout",
          "text": [
            "solution 함수의 반환 값은 False 입니다.\n",
            "solution 함수의 반환 값은 True 입니다.\n"
          ]
        }
      ]
    },
    {
      "cell_type": "code",
      "source": [
        "def solution(year, month):\n",
        "    answer = 0\n",
        "    if month == 2:\n",
        "        if (year % 4 == 0 and year % 100 != 0) or year % 400 == 0:\n",
        "            answer = 29\n",
        "        else:\n",
        "            answer = 28\n",
        "    elif month == 4 or month == 6 or month == 9 or month == 11:\n",
        "        answer = 30\n",
        "    else:\n",
        "        answer = 31\n",
        "    return answer\n",
        "\n",
        "# 테스트케이스\n",
        "year1 = 1988\n",
        "month1 = 2\n",
        "ret1 = solution(year1, month1)\n",
        "\n",
        "print('solution 함수의 반환 값은', ret1, '입니다.')\n",
        "\n",
        "year2 = 2021\n",
        "month2 = 2\n",
        "ret2 = solution(year2, month2)\n",
        "\n",
        "print('solution 함수의 반환 값은', ret2, '입니다.')\n",
        "\n",
        "year3 = 2020\n",
        "month3 = 12\n",
        "ret3 = solution(year3, month3)\n",
        "\n",
        "print('solution 함수의 반환 값은', ret3, '입니다.')"
      ],
      "metadata": {
        "id": "MdWJfrqrVCin"
      },
      "execution_count": null,
      "outputs": []
    },
    {
      "cell_type": "markdown",
      "source": [
        "**4번)** 이 코드는 문자열에서 최대 N개의 서로 다른 문자로 이루어진 부분 문자열의 최대 길이를 찾는 문제를 해결하는 파이썬 함수입니다. 코드를 단계별로 살펴보겠습니다:\n",
        "\n",
        "Counter 모듈을 사용하여 각 문자의 빈도수를 추적하는 counter 변수를 초기화합니다.\n",
        "answer는 0으로 초기화되며, 이 변수에는 최대 N개의 서로 다른 문자로 이루어진 부분 문자열의 최대 길이가 저장됩니다.\n",
        "코드는 'book' 문자열의 각 문자를 순회합니다.\n",
        "각 문자에 대해 counter를 업데이트합니다.\n",
        "while 루프는 현재 부분 문자열의 서로 다른 문자의 수(len(counter))가 N을 초과하는 경우를 처리합니다. 이 경우, 부분 문자열의 시작부터 문자를 제거하여 서로 다른 문자의 수가 N 이하가 될 때까지 반복합니다.\n",
        "answer는 현재까지 본 부분 문자열의 최대 길이로 업데이트됩니다.\n",
        "최종 결과는 최대 N개의 서로 다른 문자로 이루어진 부분 문자열의 최대 길이입니다.\n",
        "코드에는 디버깅을 위한 출력문이 포함되어 있어서 counter의 상태, 길이, counter의 값, counter 값의 합, 그리고 현재 answer의 값을 각 단계에서 출력합니다."
      ],
      "metadata": {
        "id": "3WusT-tqlq79"
      }
    },
    {
      "cell_type": "code",
      "source": [
        "from collections import Counter\n",
        "\n",
        "def solution(book, n):\n",
        "    counter = Counter()\n",
        "    answer = 0\n",
        "\n",
        "    start_idx = 0\n",
        "    for char in book:\n",
        "        counter[char] += 1\n",
        "        print(counter)\n",
        "        print(len(counter))\n",
        "        while len(counter) > n:\n",
        "            char_to_dec = book[start_idx]\n",
        "            start_idx += 1\n",
        "            if counter[char_to_dec] == 1:\n",
        "                del counter[char_to_dec]\n",
        "            else:\n",
        "                counter[char_to_dec] -= 1\n",
        "        print(counter.values())\n",
        "        print(sum(counter.values()))\n",
        "        print(answer)\n",
        "        answer = max(answer, sum(counter.values()))\n",
        "\n",
        "    return answer\n",
        "\n",
        "# 테스트케이스\n",
        "book1 = 'pooter'\n",
        "n1 = 3\n",
        "ret1 = solution(book1, n1)\n",
        "\n",
        "print('solution 함수의 반환 값은', ret1, '입니다.')\n",
        "\n",
        "book2 = 'kaak'\n",
        "n2 = 2\n",
        "ret2 = solution(book2, n2)\n",
        "\n",
        "print('solution 함수의 반환 값은', ret2, '입니다.')"
      ],
      "metadata": {
        "colab": {
          "base_uri": "https://localhost:8080/"
        },
        "id": "lhwinKwnVhZv",
        "outputId": "6faaa46d-a086-4f28-85f8-7d405dcaba3d"
      },
      "execution_count": 28,
      "outputs": [
        {
          "output_type": "stream",
          "name": "stdout",
          "text": [
            "Counter({'p': 1})\n",
            "1\n",
            "dict_values([1])\n",
            "1\n",
            "0\n",
            "Counter({'p': 1, 'o': 1})\n",
            "2\n",
            "dict_values([1, 1])\n",
            "2\n",
            "1\n",
            "Counter({'o': 2, 'p': 1})\n",
            "2\n",
            "dict_values([1, 2])\n",
            "3\n",
            "2\n",
            "Counter({'o': 2, 'p': 1, 't': 1})\n",
            "3\n",
            "dict_values([1, 2, 1])\n",
            "4\n",
            "3\n",
            "Counter({'o': 2, 'p': 1, 't': 1, 'e': 1})\n",
            "4\n",
            "dict_values([2, 1, 1])\n",
            "4\n",
            "4\n",
            "Counter({'o': 2, 't': 1, 'e': 1, 'r': 1})\n",
            "4\n",
            "dict_values([1, 1, 1])\n",
            "3\n",
            "4\n",
            "solution 함수의 반환 값은 4 입니다.\n",
            "Counter({'k': 1})\n",
            "1\n",
            "dict_values([1])\n",
            "1\n",
            "0\n",
            "Counter({'k': 1, 'a': 1})\n",
            "2\n",
            "dict_values([1, 1])\n",
            "2\n",
            "1\n",
            "Counter({'a': 2, 'k': 1})\n",
            "2\n",
            "dict_values([1, 2])\n",
            "3\n",
            "2\n",
            "Counter({'k': 2, 'a': 2})\n",
            "2\n",
            "dict_values([2, 2])\n",
            "4\n",
            "3\n",
            "solution 함수의 반환 값은 4 입니다.\n"
          ]
        }
      ]
    },
    {
      "cell_type": "code",
      "source": [
        "def solution(weights, day):\n",
        "    left, right = 0, 0\n",
        "    for weight in weights:\n",
        "        if weight > left:\n",
        "            left = weight\n",
        "        right += weight\n",
        "    while left < right:\n",
        "        mid = (left + right) // 2\n",
        "        need_day, weights_sum = 1, 0\n",
        "        for weight in weights:\n",
        "            if weights_sum + weight > mid:\n",
        "                need_day += 1\n",
        "                weights_sum = 0\n",
        "            weights_sum += weight\n",
        "        if need_day > day:\n",
        "            left = mid + 1\n",
        "        else:\n",
        "            right = mid\n",
        "    return left\n",
        "\n",
        "# 테스트케이스\n",
        "weights1 = [6, 1, 2, 5, 3, 3, 6, 1, 2]\n",
        "day1 = 4\n",
        "ret1 = solution(weights1, day1)\n",
        "\n",
        "print('solution 함수의 반환 값은', ret1, '입니다.')\n",
        "\n",
        "weights2 = [1, 2, 3, 4, 5, 6, 7, 8, 9, 10]\n",
        "day2 = 5\n",
        "ret2 = solution(weights2, day2)\n",
        "\n",
        "print('solution 함수의 반환 값은', ret2, '입니다.')"
      ],
      "metadata": {
        "colab": {
          "base_uri": "https://localhost:8080/"
        },
        "id": "5Y06PDPFYv6w",
        "outputId": "7168413c-e7db-49a7-acc0-2e886cb32a18"
      },
      "execution_count": 11,
      "outputs": [
        {
          "output_type": "stream",
          "name": "stdout",
          "text": [
            "solution 함수의 반환 값은 9 입니다.\n",
            "solution 함수의 반환 값은 15 입니다.\n"
          ]
        }
      ]
    },
    {
      "cell_type": "code",
      "source": [
        "def isPrime(num):\n",
        "    if num < 2:\n",
        "        return False\n",
        "    else:\n",
        "        for i in range(2, num):\n",
        "            if num % i == 0:\n",
        "                return False\n",
        "        return True\n",
        "\n",
        "def solution(N, M):\n",
        "    answer = 0\n",
        "    for i in range(N, M+1):\n",
        "        if (isPrime(i)):\n",
        "            answer += i\n",
        "    return answer\n",
        "\n",
        "# 테스트케이스\n",
        "N = 30\n",
        "M = 50\n",
        "ret = solution(N, M)\n",
        "\n",
        "print('solution 함수의 반환 값은', ret, '입니다.')"
      ],
      "metadata": {
        "colab": {
          "base_uri": "https://localhost:8080/"
        },
        "id": "pjyFyLl6fXb1",
        "outputId": "960332d5-6d21-477c-a918-45df9e70cccc"
      },
      "execution_count": 13,
      "outputs": [
        {
          "output_type": "stream",
          "name": "stdout",
          "text": [
            "solution 함수의 반환 값은 199 입니다.\n"
          ]
        }
      ]
    },
    {
      "cell_type": "code",
      "source": [
        "def solution(n):\n",
        "    answer = ''\n",
        "\n",
        "    num = [500, 100, 90, 50, 40, 10, 9, 5, 4, 1]\n",
        "    roman_num = ['D', 'C', 'XC', 'L', 'XL', 'X', 'IX', 'V', 'IV', 'I']\n",
        "\n",
        "    for i in range(len(num)):\n",
        "        count = int(n / num[i])\n",
        "        answer += roman_num[i] * count\n",
        "        print(answer)\n",
        "        n -= num[i] * count\n",
        "    return answer\n",
        "\n",
        "# 테스트케이스\n",
        "n1 = 265\n",
        "ret1 = solution(n1)\n",
        "\n",
        "print('solution 함수의 반환 값은', ret1, '입니다.')\n",
        "\n",
        "n2 = 85\n",
        "ret2 = solution(n2)\n",
        "\n",
        "print('solution 함수의 반환 값은', ret2, '입니다.')\n"
      ],
      "metadata": {
        "colab": {
          "base_uri": "https://localhost:8080/"
        },
        "id": "dgLbZXehf_M2",
        "outputId": "c582f278-d384-4cb2-8b9c-ac767ed7e5f0"
      },
      "execution_count": 17,
      "outputs": [
        {
          "output_type": "stream",
          "name": "stdout",
          "text": [
            "\n",
            "CC\n",
            "CC\n",
            "CCL\n",
            "CCL\n",
            "CCLX\n",
            "CCLX\n",
            "CCLXV\n",
            "CCLXV\n",
            "CCLXV\n",
            "solution 함수의 반환 값은 CCLXV 입니다.\n",
            "\n",
            "\n",
            "\n",
            "L\n",
            "L\n",
            "LXXX\n",
            "LXXX\n",
            "LXXXV\n",
            "LXXXV\n",
            "LXXXV\n",
            "solution 함수의 반환 값은 LXXXV 입니다.\n"
          ]
        }
      ]
    },
    {
      "cell_type": "code",
      "source": [
        "def solution(numbers):\n",
        "    answer = 0\n",
        "\n",
        "    numbers.sort(reverse=True)\n",
        "    # print(numbers)\n",
        "    for i in range(len(numbers)):\n",
        "      for j in range(i+1, len(numbers)):\n",
        "        combined = int(str(numbers[i]) + str(numbers[j]))\n",
        "        # print(combined)\n",
        "        answer = max(answer, combined)\n",
        "\n",
        "    return answer\n",
        "\n",
        "# 테스트케이스\n",
        "numbers1 = [5,6,7,8]\n",
        "ret1 = solution(numbers1)\n",
        "\n",
        "print('solution 함수의 반환 값은', ret1, '입니다.')\n",
        "\n",
        "numbers2 = [3,9,4,2,6]\n",
        "ret2 = solution(numbers2)\n",
        "\n",
        "print('solution 함수의 반환 값은', ret2, '입니다.')"
      ],
      "metadata": {
        "colab": {
          "base_uri": "https://localhost:8080/"
        },
        "id": "DqshsWamhKqx",
        "outputId": "651c8449-3d13-4cd4-866f-9f3e04544072"
      },
      "execution_count": 19,
      "outputs": [
        {
          "output_type": "stream",
          "name": "stdout",
          "text": [
            "87\n",
            "86\n",
            "85\n",
            "76\n",
            "75\n",
            "65\n",
            "solution 함수의 반환 값은 87 입니다.\n",
            "96\n",
            "94\n",
            "93\n",
            "92\n",
            "64\n",
            "63\n",
            "62\n",
            "43\n",
            "42\n",
            "32\n",
            "solution 함수의 반환 값은 96 입니다.\n"
          ]
        }
      ]
    },
    {
      "cell_type": "code",
      "source": [
        "def solution(binary1,binary2):\n",
        "    max_len = max(len(binary1), len(binary2))\n",
        "\n",
        "    binary1 = binary1.zfill(max_len)\n",
        "    binary2 = binary2.zfill(max_len)\n",
        "\n",
        "    answer = ''\n",
        "    carry = 0\n",
        "\n",
        "    for i in range(max_len-1, -1, -1):\n",
        "      bit_sum = int(binary1[i]) + int(binary2[i]) + carry\n",
        "      carry = bit_sum // 2\n",
        "      bit_sum %= 2\n",
        "      # print(bit_sum)\n",
        "      answer = str(bit_sum) + answer\n",
        "    return answer\n",
        "\n",
        "# 테스트케이스\n",
        "binary1 = '10011010'\n",
        "binary2 = '1011'\n",
        "ret = solution(binary1, binary2)\n",
        "\n",
        "print('solution 함수의 반환 값은', ret, '입니다.')"
      ],
      "metadata": {
        "colab": {
          "base_uri": "https://localhost:8080/"
        },
        "id": "9JqS_PYFiIkd",
        "outputId": "db9f2d58-66c2-4a49-bde9-971293485699"
      },
      "execution_count": 21,
      "outputs": [
        {
          "output_type": "stream",
          "name": "stdout",
          "text": [
            "solution 함수의 반환 값은 10100101 입니다.\n"
          ]
        }
      ]
    },
    {
      "cell_type": "code",
      "source": [
        "\n",
        "from collections import Counter\n",
        "\n",
        "def solution(text):\n",
        "    answer = ''\n",
        "    words = text.split()\n",
        "    word_counter = Counter(words)\n",
        "    print(dict(word_counter))\n",
        "    print(word_counter.most_common(1))\n",
        "    print(word_counter.most_common(1)[0])\n",
        "    answer = word_counter.most_common(1)[0][0]\n",
        "    return answer\n",
        "\n",
        "# 테스트케이스\n",
        "text = 'top of the top netflix'\n",
        "ret = solution(text)\n",
        "\n",
        "print('solution 함수의 반환 값은', ret, '입니다.')"
      ],
      "metadata": {
        "colab": {
          "base_uri": "https://localhost:8080/"
        },
        "id": "dGfCwrpZjXhm",
        "outputId": "363257c3-9434-4037-8e1f-38d134ee8c6e"
      },
      "execution_count": 26,
      "outputs": [
        {
          "output_type": "stream",
          "name": "stdout",
          "text": [
            "{'top': 2, 'of': 1, 'the': 1, 'netflix': 1}\n",
            "[('top', 2)]\n",
            "('top', 2)\n",
            "solution 함수의 반환 값은 top 입니다.\n"
          ]
        }
      ]
    },
    {
      "cell_type": "markdown",
      "source": [
        "**1급 모의고사 8회**"
      ],
      "metadata": {
        "id": "fjhnjXt5mK41"
      }
    },
    {
      "cell_type": "code",
      "source": [
        "def solution(money, stocks, purchasables):\n",
        "    purchasables.sort(key=lambda x: x[1])\n",
        "\n",
        "    answer = 0\n",
        "    for book, price in purchasables:\n",
        "        if book in stocks or money >= price:\n",
        "            money -= price\n",
        "            stocks.append(book)\n",
        "            answer += 1\n",
        "    return answer\n",
        "\n",
        "# 테스트케이스\n",
        "money = 10\n",
        "stocks = [1, 3, 6, 11]\n",
        "purchasables = [[1, 1], [2, 5], [3, 2], [7, 2], [8, 5]]\n",
        "ret = solution(money, stocks, purchasables)\n",
        "\n",
        "print('solution 함수의 반환 값은', ret, '입니다.')\n"
      ],
      "metadata": {
        "id": "ehuty68fmQaV"
      },
      "execution_count": null,
      "outputs": []
    }
  ]
}